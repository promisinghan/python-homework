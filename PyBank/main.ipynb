{
 "cells": [
  {
   "cell_type": "markdown",
   "metadata": {},
   "source": [
    "# Unit 2 | Automate Your Day Job with Python"
   ]
  },
  {
   "cell_type": "markdown",
   "metadata": {},
   "source": [
    "In this task, I am creating a Python script for analyzing the financial records of my fictional company. I will use budget_data.csv file provided. This dataset is composed of two columns, Date and Profit/Losses as my company has rather lax standards for accounting, so the records are simple. My task is to create a Python script that analyzes the records to calculate each of the following:\n",
    "\n",
    "- The total number of months included in the dataset.\n",
    "\n",
    "- The net total amount of Profit/Losses over the entire period.\n",
    "\n",
    "- The average of the changes in Profit/Losses over the entire period.\n",
    "\n",
    "- The greates increase in profits (date and amount) over the entire period.\n",
    "\n",
    "- The greates decrease in losses (date and amount) over the entire period.\n",
    "\n",
    "My resulting analysis should look similar to the following:\n",
    "    \n",
    "### Financial Analysis\n",
    "-----------------------\n",
    "Total Months: 86 <br>\n",
    "\n",
    "Total: $38382578 <br>\n",
    "    \n",
    "Average Change: $-2315.12 <br>\n",
    "    \n",
    "Greatest Increase in Profits: Feb-2012 ($1926159) <br>\n",
    "    \n",
    "Greates Decrease in Profits: Sep-2013 ($-2196167) <br>\n",
    "    \n",
    "My final script should print the analysis to the terminal and export a text file with the results."
   ]
  },
  {
   "cell_type": "code",
   "execution_count": 1,
   "metadata": {},
   "outputs": [],
   "source": [
    "# Import the pathlib and csv library\n",
    "from pathlib import Path\n",
    "import csv"
   ]
  },
  {
   "cell_type": "code",
   "execution_count": 2,
   "metadata": {},
   "outputs": [
    {
     "name": "stdout",
     "output_type": "stream",
     "text": [
      "My current path is---> C:\\Users\\Minyeong\\desktop\\python-homework\\PyBank\n"
     ]
    }
   ],
   "source": [
    "# Check my current directory\n",
    "print(f\"My current path is---> {Path.cwd()}\")"
   ]
  },
  {
   "cell_type": "markdown",
   "metadata": {},
   "source": [
    "### Calculating Total Months and Total"
   ]
  },
  {
   "cell_type": "code",
   "execution_count": 3,
   "metadata": {},
   "outputs": [
    {
     "name": "stdout",
     "output_type": "stream",
     "text": [
      "<class '_io.TextIOWrapper'>\n",
      "<class '_csv.reader'>\n",
      "['Date', 'Profit/Losses']\n",
      "['Date', 'Profit/Losses'] <---This is Header\n",
      "['Jan-2010', '867884']\n",
      "['Feb-2010', '984655']\n",
      "['Mar-2010', '322013']\n",
      "['Apr-2010', '-69417']\n",
      "['May-2010', '310503']\n",
      "['Jun-2010', '522857']\n",
      "['Jul-2010', '1033096']\n",
      "['Aug-2010', '604885']\n",
      "['Sep-2010', '-216386']\n",
      "['Oct-2010', '477532']\n",
      "['Nov-2010', '893810']\n",
      "['Dec-2010', '-80353']\n",
      "['Jan-2011', '779806']\n",
      "['Feb-2011', '-335203']\n",
      "['Mar-2011', '697845']\n",
      "['Apr-2011', '793163']\n",
      "['May-2011', '485070']\n",
      "['Jun-2011', '584122']\n",
      "['Jul-2011', '62729']\n",
      "['Aug-2011', '668179']\n",
      "['Sep-2011', '899906']\n",
      "['Oct-2011', '834719']\n",
      "['Nov-2011', '132003']\n",
      "['Dec-2011', '309978']\n",
      "['Jan-2012', '-755566']\n",
      "['Feb-2012', '1170593']\n",
      "['Mar-2012', '252788']\n",
      "['Apr-2012', '1151518']\n",
      "['May-2012', '817256']\n",
      "['Jun-2012', '570757']\n",
      "['Jul-2012', '506702']\n",
      "['Aug-2012', '-1022534']\n",
      "['Sep-2012', '475062']\n",
      "['Oct-2012', '779976']\n",
      "['Nov-2012', '144175']\n",
      "['Dec-2012', '542494']\n",
      "['Jan-2013', '359333']\n",
      "['Feb-2013', '321469']\n",
      "['Mar-2013', '67780']\n",
      "['Apr-2013', '471435']\n",
      "['May-2013', '565603']\n",
      "['Jun-2013', '872480']\n",
      "['Jul-2013', '789480']\n",
      "['Aug-2013', '999942']\n",
      "['Sep-2013', '-1196225']\n",
      "['Oct-2013', '268997']\n",
      "['Nov-2013', '-687986']\n",
      "['Dec-2013', '1150461']\n",
      "['Jan-2014', '682458']\n",
      "['Feb-2014', '617856']\n",
      "['Mar-2014', '824098']\n",
      "['Apr-2014', '581943']\n",
      "['May-2014', '132864']\n",
      "['Jun-2014', '448062']\n",
      "['Jul-2014', '689161']\n",
      "['Aug-2014', '800701']\n",
      "['Sep-2014', '1166643']\n",
      "['Oct-2014', '947333']\n",
      "['Nov-2014', '578668']\n",
      "['Dec-2014', '988505']\n",
      "['Jan-2015', '1139715']\n",
      "['Feb-2015', '1029471']\n",
      "['Mar-2015', '687533']\n",
      "['Apr-2015', '-524626']\n",
      "['May-2015', '158620']\n",
      "['Jun-2015', '87795']\n",
      "['Jul-2015', '423389']\n",
      "['Aug-2015', '840723']\n",
      "['Sep-2015', '568529']\n",
      "['Oct-2015', '332067']\n",
      "['Nov-2015', '989499']\n",
      "['Dec-2015', '778237']\n",
      "['Jan-2016', '650000']\n",
      "['Feb-2016', '-1100387']\n",
      "['Mar-2016', '-174946']\n",
      "['Apr-2016', '757143']\n",
      "['May-2016', '445709']\n",
      "['Jun-2016', '712961']\n",
      "['Jul-2016', '-1163797']\n",
      "['Aug-2016', '569899']\n",
      "['Sep-2016', '768450']\n",
      "['Oct-2016', '102685']\n",
      "['Nov-2016', '795914']\n",
      "['Dec-2016', '60988']\n",
      "['Jan-2017', '138230']\n",
      "['Feb-2017', '671099']\n",
      "Total months: 86, Total: 38382578\n"
     ]
    }
   ],
   "source": [
    "# Set the file path\n",
    "csvpath = Path(\"budget_data.csv\")\n",
    "\n",
    "# Initialize list to hold dates and profit_losses to calculate the changes\n",
    "calc_change = []\n",
    "\n",
    "# Initialize metric variables\n",
    "total_months_count = 0\n",
    "total = 0\n",
    "\n",
    "# Open the csvpath as a file object\n",
    "with open(csvpath, 'r') as csvfile:\n",
    "    \n",
    "    # Print the datatype of the file object\n",
    "    print(type(csvfile))\n",
    "    \n",
    "    # Pass in the csvfile to the csv.reader() function with ',' as the delimiter/separater\n",
    "    # and return the budget_csv object\n",
    "    budget_csv = csv.reader(csvfile, delimiter=',')\n",
    "    \n",
    "    # Print the datatype of the budget_csv\n",
    "    print(type(budget_csv))\n",
    "    \n",
    "    # Go to the next row from the start of the file, which is the first row/header\n",
    "    header = next(budget_csv)\n",
    "    \n",
    "    # Print the header\n",
    "    print(header)\n",
    "    print(f\"{header} <---This is Header\")\n",
    "    \n",
    "    # Read each row of data after the header\n",
    "    for budget_row in budget_csv:\n",
    "        # Print the row\n",
    "        print(budget_row)\n",
    "        \n",
    "        # Set what_date variable equal to the value in the 1st column of each row,\n",
    "        # Set profit_loss variable equal to the value in the 2nd column of each row\n",
    "        # and convert strings to integers for numerical calculations\n",
    "        what_date = budget_row[0]\n",
    "        profit_loss = int(budget_row[1])\n",
    "        \n",
    "        # Append the row what_date value and profit_loss value to the calc_change list\n",
    "        calc_change.append([what_date, profit_loss])\n",
    "        \n",
    "        # Count the months and sum the total\n",
    "        total_months_count +=1\n",
    "        total += profit_loss\n",
    "        \n",
    "# Print the total months and total\n",
    "print(f\"Total months: {total_months_count}, Total: {total}\")"
   ]
  },
  {
   "cell_type": "code",
   "execution_count": 4,
   "metadata": {},
   "outputs": [
    {
     "data": {
      "text/plain": [
       "[['Jan-2010', 867884],\n",
       " ['Feb-2010', 984655],\n",
       " ['Mar-2010', 322013],\n",
       " ['Apr-2010', -69417],\n",
       " ['May-2010', 310503],\n",
       " ['Jun-2010', 522857],\n",
       " ['Jul-2010', 1033096],\n",
       " ['Aug-2010', 604885],\n",
       " ['Sep-2010', -216386],\n",
       " ['Oct-2010', 477532],\n",
       " ['Nov-2010', 893810],\n",
       " ['Dec-2010', -80353],\n",
       " ['Jan-2011', 779806],\n",
       " ['Feb-2011', -335203],\n",
       " ['Mar-2011', 697845],\n",
       " ['Apr-2011', 793163],\n",
       " ['May-2011', 485070],\n",
       " ['Jun-2011', 584122],\n",
       " ['Jul-2011', 62729],\n",
       " ['Aug-2011', 668179],\n",
       " ['Sep-2011', 899906],\n",
       " ['Oct-2011', 834719],\n",
       " ['Nov-2011', 132003],\n",
       " ['Dec-2011', 309978],\n",
       " ['Jan-2012', -755566],\n",
       " ['Feb-2012', 1170593],\n",
       " ['Mar-2012', 252788],\n",
       " ['Apr-2012', 1151518],\n",
       " ['May-2012', 817256],\n",
       " ['Jun-2012', 570757],\n",
       " ['Jul-2012', 506702],\n",
       " ['Aug-2012', -1022534],\n",
       " ['Sep-2012', 475062],\n",
       " ['Oct-2012', 779976],\n",
       " ['Nov-2012', 144175],\n",
       " ['Dec-2012', 542494],\n",
       " ['Jan-2013', 359333],\n",
       " ['Feb-2013', 321469],\n",
       " ['Mar-2013', 67780],\n",
       " ['Apr-2013', 471435],\n",
       " ['May-2013', 565603],\n",
       " ['Jun-2013', 872480],\n",
       " ['Jul-2013', 789480],\n",
       " ['Aug-2013', 999942],\n",
       " ['Sep-2013', -1196225],\n",
       " ['Oct-2013', 268997],\n",
       " ['Nov-2013', -687986],\n",
       " ['Dec-2013', 1150461],\n",
       " ['Jan-2014', 682458],\n",
       " ['Feb-2014', 617856],\n",
       " ['Mar-2014', 824098],\n",
       " ['Apr-2014', 581943],\n",
       " ['May-2014', 132864],\n",
       " ['Jun-2014', 448062],\n",
       " ['Jul-2014', 689161],\n",
       " ['Aug-2014', 800701],\n",
       " ['Sep-2014', 1166643],\n",
       " ['Oct-2014', 947333],\n",
       " ['Nov-2014', 578668],\n",
       " ['Dec-2014', 988505],\n",
       " ['Jan-2015', 1139715],\n",
       " ['Feb-2015', 1029471],\n",
       " ['Mar-2015', 687533],\n",
       " ['Apr-2015', -524626],\n",
       " ['May-2015', 158620],\n",
       " ['Jun-2015', 87795],\n",
       " ['Jul-2015', 423389],\n",
       " ['Aug-2015', 840723],\n",
       " ['Sep-2015', 568529],\n",
       " ['Oct-2015', 332067],\n",
       " ['Nov-2015', 989499],\n",
       " ['Dec-2015', 778237],\n",
       " ['Jan-2016', 650000],\n",
       " ['Feb-2016', -1100387],\n",
       " ['Mar-2016', -174946],\n",
       " ['Apr-2016', 757143],\n",
       " ['May-2016', 445709],\n",
       " ['Jun-2016', 712961],\n",
       " ['Jul-2016', -1163797],\n",
       " ['Aug-2016', 569899],\n",
       " ['Sep-2016', 768450],\n",
       " ['Oct-2016', 102685],\n",
       " ['Nov-2016', 795914],\n",
       " ['Dec-2016', 60988],\n",
       " ['Jan-2017', 138230],\n",
       " ['Feb-2017', 671099]]"
      ]
     },
     "execution_count": 4,
     "metadata": {},
     "output_type": "execute_result"
    }
   ],
   "source": [
    "# Sanity check\n",
    "calc_change"
   ]
  },
  {
   "cell_type": "markdown",
   "metadata": {},
   "source": [
    "### Calculating Total Change and Average Change"
   ]
  },
  {
   "cell_type": "code",
   "execution_count": 5,
   "metadata": {},
   "outputs": [
    {
     "name": "stdout",
     "output_type": "stream",
     "text": [
      "Total change: -196785, Average Change: -2315.12\n"
     ]
    }
   ],
   "source": [
    "# Initialize dictionary\n",
    "change_dict = {}\n",
    "\n",
    "# Initialize variable to calculate the total change\n",
    "change_total = 0\n",
    "\n",
    "# Iterate over 1 through 85(which is length of calc_change - 1) to calculate the respective monthly change and the total change,\n",
    "# and then hold them in change_dict dictionary\n",
    "for x in range(1, len(calc_change)):\n",
    "    \n",
    "    # Calculate the change in profit, which is the difference between the adjacent second elements of the calc_change list\n",
    "    change_value = calc_change[x][1] - calc_change[x-1][1]\n",
    "    \n",
    "    # Assign the key from the first element of the calc_change list\n",
    "    change_key = calc_change[x][0]\n",
    "    \n",
    "    # Create dictionary having change_key as key and change_value as value\n",
    "    change_dict[change_key] = change_value\n",
    "    \n",
    "    # Calculate the total change\n",
    "    change_total += change_value\n",
    "    \n",
    "    # Calculate the average change, round to the nearest 2 decimal places\n",
    "    average_change = round(change_total / (total_months_count-1), 2)\n",
    "    \n",
    "# Print the change_total and average_change\n",
    "print(f\"Total change: {change_total}, Average Change: {average_change}\")"
   ]
  },
  {
   "cell_type": "markdown",
   "metadata": {},
   "source": [
    "### Calculating the minimum & maximum profit change and respective dates, & printing the resulting analysis"
   ]
  },
  {
   "cell_type": "code",
   "execution_count": 6,
   "metadata": {},
   "outputs": [
    {
     "name": "stdout",
     "output_type": "stream",
     "text": [
      " Financial Analysis\n",
      " --------------------------\n",
      " Total Months: 86\n",
      " Total: $38382578\n",
      " Average Change: $-2315.12\n",
      " Greates Increase in Profits: Feb-2012 ($1926159)\n",
      " Greates Decrease in Profits: Sep-2013 ($-2196167)\n"
     ]
    }
   ],
   "source": [
    "# Initialize metric variables\n",
    "max_date = \"\"\n",
    "max_change = 0\n",
    "min_date = \"\"\n",
    "min_change = 0\n",
    "\n",
    "# Calculate the maximum and minimum of the profit_loss change, and find the respective dates\n",
    "for key, value in change_dict.items():\n",
    "    \n",
    "    #logic to determine minimum and maximum of the profit_loss changes and the respective dates\n",
    "    if min_change == 0:\n",
    "        min_change = value\n",
    "        date = key\n",
    "        \n",
    "    elif value > max_change:\n",
    "        max_change = value\n",
    "        max_date = key\n",
    "        \n",
    "    elif value < min_change:\n",
    "        min_change = value\n",
    "        min_date = key\n",
    "        \n",
    "# Print the analysis results\n",
    "print(\" Financial Analysis\\n --------------------------\")\n",
    "print(f\" Total Months: {total_months_count}\\n Total: ${total}\\n Average Change: ${average_change}\\n Greates Increase in Profits: {max_date} (${max_change})\\n Greates Decrease in Profits: {min_date} (${min_change})\")"
   ]
  },
  {
   "cell_type": "markdown",
   "metadata": {},
   "source": [
    "### Exporting a text file with the final results"
   ]
  },
  {
   "cell_type": "code",
   "execution_count": 7,
   "metadata": {},
   "outputs": [
    {
     "name": "stdout",
     "output_type": "stream",
     "text": [
      "<class '_io.TextIOWrapper'>\n"
     ]
    }
   ],
   "source": [
    "# Set the file path\n",
    "output_path = Path(\"budget_analysis.txt\")\n",
    "\n",
    "# Open the output path as a file object\n",
    "with open(output_path, 'w') as budg_output:\n",
    "    budg_output.write(\"Financial Analysis\\n\")\n",
    "    budg_output.write(\"----------------------------------------------------\\n\")\n",
    "    budg_output.write(f\"Total Months: {str(total_months_count)}\\n\")\n",
    "    budg_output.write(f\"Total: ${str(total)}\\n\")\n",
    "    budg_output.write(f\"Average Change: ${str(average_change)}\\n\")\n",
    "    budg_output.write(f\"Greates Increase in Profits: {max_date} (${str(max_change)})\\n\")\n",
    "    budg_output.write(f\"Greates Decrease in PROFITS: {min_date} (${str(min_change)})\")\n",
    "    \n",
    "# Print the datatype of the file object\n",
    "print(type(budg_output))"
   ]
  },
  {
   "cell_type": "markdown",
   "metadata": {},
   "source": [
    "### Bonus - exporting a CSV file with the results"
   ]
  },
  {
   "cell_type": "code",
   "execution_count": 8,
   "metadata": {},
   "outputs": [
    {
     "name": "stdout",
     "output_type": "stream",
     "text": [
      "<class '_io.TextIOWrapper'>\n",
      "<class '_csv.writer'>\n"
     ]
    }
   ],
   "source": [
    "# Set the file path\n",
    "output_path2 = Path('fin_analysis.csv')\n",
    "\n",
    "# Set the output header\n",
    "csv_header = [\"Total Months\", \"Total\", \"Average Change\", \"Greates Increase in Profits\", \"Greates Decrease in Profits\"]\n",
    "csv_metrics = [total_months_count, total, average_change, max_change, min_change]\n",
    "\n",
    "# Open the output path as a file object\n",
    "with open(output_path2, 'w') as csv_output:\n",
    "    \n",
    "    # Set the file object as a csv_writer object\n",
    "    csv_writer = csv.writer(csv_output, delimiter = ',')\n",
    "    \n",
    "    # Write the header to the output file\n",
    "    csv_writer.writerow(csv_header)\n",
    "\n",
    "    # Write the list of metrics to the output file\n",
    "    csv_writer.writerow(csv_metrics)\n",
    "    \n",
    "# Print the datatype of the file object\n",
    "print(type(csv_output))\n",
    "\n",
    "# Print the datatype of the csv_writer\n",
    "print(type(csv_writer))"
   ]
  },
  {
   "cell_type": "code",
   "execution_count": null,
   "metadata": {},
   "outputs": [],
   "source": []
  }
 ],
 "metadata": {
  "kernelspec": {
   "display_name": "Python 3",
   "language": "python",
   "name": "python3"
  },
  "language_info": {
   "codemirror_mode": {
    "name": "ipython",
    "version": 3
   },
   "file_extension": ".py",
   "mimetype": "text/x-python",
   "name": "python",
   "nbconvert_exporter": "python",
   "pygments_lexer": "ipython3",
   "version": "3.7.7"
  }
 },
 "nbformat": 4,
 "nbformat_minor": 4
}

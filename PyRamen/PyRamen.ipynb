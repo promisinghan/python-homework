{
 "cells": [
  {
   "cell_type": "markdown",
   "metadata": {},
   "source": [
    "# **PyRamen**"
   ]
  },
  {
   "cell_type": "markdown",
   "metadata": {},
   "source": [
    "## Background\n",
    "\n",
    "Welcome to Ichiban Ramen!\n",
    "Opening a ramen shop has always been your dream, and now it's finally been realized––you're closing out on your second year of sales! Like last year, you need to analyze your business's financial performance by cross-referencing your sales data with your internal menu data to figure out revenues and costs for the year.\n",
    "\n",
    "This year, you also want to analyze how well your business did on a per-product basis (as you have several choices of ramen) in order to better understand which products are doing well, which are doing poorly, and, ultimately, which products may need to be removed or changed.\n",
    "\n",
    "You tried doing this type of per-product analysis last year in Excel, but you were not able to keep your reports up-to-date with your current sales data. Therefore, you need to innovate. With more customers and more data to process, you'll need a tool that will allow you to automate your calculations in a manner that scales with your business.\n",
    "\n",
    "Enter Python! Python provides a wide range of capabilities for handling data, harnessing the power of low-level Python data structures and high-level development libraries, all the while supporting the automation and scalability needs for a growing enterprise.\n",
    "In this homework assignment, you will need to:\n",
    "\n",
    "\n",
    "1.Read the Data\n",
    "\n",
    "\n",
    "2.Manipulate the Data"
   ]
  },
  {
   "cell_type": "markdown",
   "metadata": {},
   "source": [
    "### Read the Data"
   ]
  },
  {
   "cell_type": "code",
   "execution_count": 1,
   "metadata": {},
   "outputs": [
    {
     "name": "stdout",
     "output_type": "stream",
     "text": [
      "My current path is: C:\\Users\\Minyeong\\Desktop\\ramen\n"
     ]
    }
   ],
   "source": [
    "# import libraries\n",
    "import csv\n",
    "from pathlib import Path\n",
    "\n",
    "print(f\"My current path is: {Path.cwd()}\")"
   ]
  },
  {
   "cell_type": "code",
   "execution_count": 2,
   "metadata": {},
   "outputs": [],
   "source": [
    "# @TODO: Set file paths for menu_data.csv and sales_data.csv\n",
    "menu_filepath = Path('menu_data.csv')\n",
    "sales_filepath = Path('sales_data.csv')\n",
    "\n",
    "# @TODO: Initialize list objects to hold our menu and sales data\n",
    "menu = []\n",
    "sales = []"
   ]
  },
  {
   "cell_type": "code",
   "execution_count": 3,
   "metadata": {},
   "outputs": [
    {
     "name": "stdout",
     "output_type": "stream",
     "text": [
      "<class '_io.TextIOWrapper'>\n",
      "<class '_csv.reader'>\n",
      "['item', 'category', 'description', 'price', 'cost']\n",
      "['item', 'category', 'description', 'price', 'cost'] <---This is Header\n",
      "\n",
      "[['edamame', 'appetizers', 'boiled soybeans, maldon sea salt', '4', '1'], ['house salad', 'appetizers', 'mixed greens, cherry tomatoes, cucumber, house ginger dressing', '4', '2'], ['cucumber sunomono salad', 'appetizers', 'cucumber, ponzu dressing, pickled ginger sproud, sesame seeds', '5', '2'], ['hiyashi wakame seaweed salad', 'appetizers', 'sweet soy-marinated wakame seaweed threads, pickled ginger sprout, sesame seeds', '5', '2'], ['agedashi tofu', 'appetizers', 'tempura battered tofu, katsuobushi, tsuyu broth, scallions', '5', '2'], ['hiyayakko tofu', 'appetizers', 'chilled soft tofu, house shoyu, katsuobushi, ginger, scallions', '5', '2'], ['pork floss bao', 'appetizers', 'two steamed buns, minced lean slow braised niman, ranch pork belly, cucumbers, sriracha mayo', '4', '2'], ['kakuni bao', 'appetizers', 'two steamed buns, chopped fatty slow braised niman ranch pork belly, cucumbers, house bao sauce', '6', '3'], ['edamame fried gyoza (vegan)', 'appetizers', 'six crispy fried edamame and cabbage pot stickers; ponzu rayu dipping sauce', '6', '3'], ['fried gyoza', 'appetizers', 'six cripsy fried pork and vegetable pot stickers; ponzu rayu dipping sauce', '6', '6'], ['takoyaki', 'appetizers', 'six octopus-filled fried fritters, kewpie mayo, okonomi sauce, aonori, katsuobushi, nori', '6', '3'], ['rock shrimp tempura', 'appetizers', 'deep fried tempura battered rock shrimp, sriracha mayo, nisume sauce, aonori, scallions', '6', '3'], ['soft-shell crab tempura', 'appetizers', 'single deep fried soft-shell crab, tsuyu dipping broth', '6', '3'], ['ebi katsu shrimp bao', 'appetizers', 'two steamed buns, panko-crusted fried shrimp patties, yuzu-kosho mayo, aonori, scallions', '6', '3'], ['nagomi shoyu', 'entree', 'shoyu seasoned clear double stock (organic chick broth + house dashi); slow braised niman ranch pork belly, hanjuku tamago, nori, menma, scallions', '11', '5'], ['shio ramen', 'entree', 'sea salt seasoned clear double stock (organic chicken broth + house dashi); slow braised niman ranch pork belly, hanjuku tamago, kikurage, nori, scallions', '11', '5'], ['spicy miso ramen', 'entree', 'house togarashi miso blend + niman ranch pork bone stock; slow braised niman ranch pork belly, hanjuku tamago, kikurage, nori, scallions', '12', '5'], ['vegetarian spicy miso', 'entree', 'house togarashi miso blend + vegan dashi; tempura fried tofu, sweet corn, edamame, kikurage, nori, scallions; organic soy milk upon request', '12', '5'], ['miso crab ramen', 'entree', 'house miso crab blend + vegan dashi; slow braised niman ranch pork belly, crab meat, hanjuku tamago, kikurage, nori, scallions', '12', '6'], ['soft-shell miso crab ramen', 'entree', 'house miso crab blend + vegan dashi; fried whole soft-shell crab, hanjuku tamago, kikurage, nori, scallions', '14', '7'], ['tori paitan ramen', 'entree', 'rich, shoyu seasoned double stock (organic chicken broth + house dashi); slow braised niman ranch pork belly, hanuku tamago, kikurage, nori, scllaions', '13', '6'], ['tonkotsu ramen', 'entree', 'rich, shoyi seasoned niman ranch pork bone stock; slow braised niman ranch pork belly, hanjuku tamago, kikurage, nori, spring radish, scallions', '13', '6'], ['burnt garlic tonkotsu ramen', 'entree', 'rich, shoyi and burnt garlic seasoned niman ranch pork bone stock; slow braised niman ranch pork belly, hanjuku tamago, kikurage, sweet corn, nori, scallions', '14', '6'], ['vegetarian curry + king trumpet mushroom ramen', 'entree', 'house curry blend + vegan dashi; fried king trumpet mushroom, tempura fried tofu, mung bean sprouts, kikurage, nori, scallions', '13', '7'], ['truffle butter ramen', 'entree', 'rich, shoyu seasoned niman ranch prok bone stock; truffle compound butter, slow braised niman ranch pork belly, kikurage, sweet corn, nori, scallions', '14', '7'], ['green tea', 'drinks', 'green tea', '2.5', '1'], ['coke', 'drinks', 'Coca Cola soda', '2', '1'], ['black sesame ice cream', 'desserts', 'house-made black sesame ice cream, valrhona chocolate threads, complimentary hojicha', '5', '2'], ['matcha ice cream', 'desserts', 'house-made matcha ice cream, white chocolate pearls; complimentary hojicha', '5', '2'], ['mango mochi ice cream', 'desserts', 'two rice-cake bonbons filled with strawberry ice cream; complimentary hojicha', '5', '2'], ['strawberry mochi ice cream', 'desserts', 'two rice-cake bonbons filled with strawberry ice cream; complimentary hojicha', '5', '2'], ['black sesame creme brulee', 'desserts', 'house made black sesame infused creme brulee; complimentary hojicha', '6', '3']]\n"
     ]
    }
   ],
   "source": [
    "# @TODO: Read in the menu data into the menu list\n",
    "\n",
    "with open(menu_filepath, 'r') as menufile:\n",
    "    print(type(menufile))\n",
    "       \n",
    "    menu_csv = csv.reader(menufile, delimiter=',')\n",
    "    print(type(menu_csv))\n",
    "    \n",
    "    header = next(menu_csv)\n",
    "    print(header)    \n",
    "    print(f\"{header} <---This is Header\")\n",
    "    \n",
    "    for menu_row in menu_csv:\n",
    "        menu.append(menu_row)\n",
    "        \n",
    "print()\n",
    "print(menu)"
   ]
  },
  {
   "cell_type": "code",
   "execution_count": 4,
   "metadata": {},
   "outputs": [
    {
     "name": "stdout",
     "output_type": "stream",
     "text": [
      "<class '_io.TextIOWrapper'>\n",
      "<class '_csv.reader'>\n",
      "['Line_Item_ID', 'Date', 'Credit_Card_Number', 'Quantity', 'Menu_Item']\n",
      "['Line_Item_ID', 'Date', 'Credit_Card_Number', 'Quantity', 'Menu_Item'] <---This is Header\n"
     ]
    },
    {
     "name": "stderr",
     "output_type": "stream",
     "text": [
      "IOPub data rate exceeded.\n",
      "The notebook server will temporarily stop sending output\n",
      "to the client in order to avoid crashing it.\n",
      "To change this limit, set the config variable\n",
      "`--NotebookApp.iopub_data_rate_limit`.\n",
      "\n",
      "Current values:\n",
      "NotebookApp.iopub_data_rate_limit=1000000.0 (bytes/sec)\n",
      "NotebookApp.rate_limit_window=3.0 (secs)\n",
      "\n"
     ]
    },
    {
     "name": "stdout",
     "output_type": "stream",
     "text": [
      "\n"
     ]
    }
   ],
   "source": [
    "# @TODO: Read in the sales data into the sales list\n",
    "\n",
    "with open(sales_filepath, 'r') as salesfile:\n",
    "     print(type(menufile))\n",
    "       \n",
    "     sales_csv = csv.reader(salesfile, delimiter=',')\n",
    "     print(type(sales_csv))\n",
    "    \n",
    "        \n",
    "     header2 = next(sales_csv)\n",
    "     print(header2)    \n",
    "     print(f\"{header2} <---This is Header\")\n",
    "    \n",
    "     for sales_row in sales_csv:\n",
    "         sales.append(sales_row)\n",
    "\n",
    "print()\n",
    "print(sales)"
   ]
  },
  {
   "cell_type": "code",
   "execution_count": 5,
   "metadata": {},
   "outputs": [
    {
     "name": "stdout",
     "output_type": "stream",
     "text": [
      "{'spicy miso ramen': {'01-count': 9238, '02-revenue': 110856.0, '03-cogs': 46190.0, '04-profit': 64666.0}, 'tori paitan ramen': {'01-count': 9156, '02-revenue': 119028.0, '03-cogs': 54936.0, '04-profit': 64092.0}, 'truffle butter ramen': {'01-count': 8982, '02-revenue': 125748.0, '03-cogs': 62874.0, '04-profit': 62874.0}, 'tonkotsu ramen': {'01-count': 9288, '02-revenue': 120744.0, '03-cogs': 55728.0, '04-profit': 65016.0}, 'vegetarian spicy miso': {'01-count': 9216, '02-revenue': 110592.0, '03-cogs': 46080.0, '04-profit': 64512.0}, 'shio ramen': {'01-count': 9180, '02-revenue': 100980.0, '03-cogs': 45900.0, '04-profit': 55080.0}, 'miso crab ramen': {'01-count': 8890, '02-revenue': 106680.0, '03-cogs': 53340.0, '04-profit': 53340.0}, 'nagomi shoyu': {'01-count': 9132, '02-revenue': 100452.0, '03-cogs': 45660.0, '04-profit': 54792.0}, 'soft-shell miso crab ramen': {'01-count': 9130, '02-revenue': 127820.0, '03-cogs': 63910.0, '04-profit': 63910.0}, 'burnt garlic tonkotsu ramen': {'01-count': 9070, '02-revenue': 126980.0, '03-cogs': 54420.0, '04-profit': 72560.0}, 'vegetarian curry + king trumpet mushroom ramen': {'01-count': 8824, '02-revenue': 114712.0, '03-cogs': 61768.0, '04-profit': 52944.0}}\n",
      "\n",
      "row_counter is 2371968\n",
      "74124\n",
      "2371968\n",
      "2371968\n",
      "\n",
      "2297844\n"
     ]
    }
   ],
   "source": [
    "report = {}\n",
    "\n",
    "no_match = []\n",
    "\n",
    "row_counter = 0\n",
    "sale_row_counter = 0\n",
    "menu_row_counter = 0\n",
    "\n",
    "for sale_row in sales:\n",
    "    \n",
    "    sale_row_counter +=1\n",
    "    \n",
    "    # Line_Item_ID,Date,Credit_Card_Number,Quantity,Menu_Item\n",
    "    item_id = sale_row[0]\n",
    "    sales_date = sale_row[1]\n",
    "    card_number = sale_row[2]\n",
    "    quantity = int(sale_row[3])\n",
    "    menu_name = sale_row[4]\n",
    "    \n",
    "    if menu_name not in report.keys():\n",
    "        report[menu_name] = {\"01-count\":0, \"02-revenue\":0, \"03-cogs\":0, \"04-profit\":0}\n",
    "       \n",
    "    for menu_row in menu:\n",
    "\n",
    "        menu_row_counter += 1\n",
    "\n",
    "        menu_item = menu_row[0]\n",
    "        category = menu_row[1]\n",
    "        description = menu_row[2]\n",
    "        price = float(menu_row[3])\n",
    "        cost = float(menu_row[4])\n",
    "        profit = price - cost\n",
    "\n",
    "        # Calculate the revenue, cogs, profit, count\n",
    "        count = quantity\n",
    "        revenue = price * quantity\n",
    "        cogs = cost * quantity\n",
    "        profit_ = profit * quantity\n",
    "\n",
    "        if menu_name == menu_item:                   \n",
    "\n",
    "                report[menu_name][\"01-count\"] += quantity\n",
    "                report[menu_name][\"02-revenue\"] += price * quantity\n",
    "                report[menu_name][\"03-cogs\"] += cost * quantity\n",
    "                report[menu_name][\"04-profit\"] += profit_                   \n",
    "            \n",
    "            \n",
    "        else:\n",
    "            no_match.append(f\"{menu_name} in sales dataset does NOT equal {menu_item} in the menu data set. No Match!\")\n",
    "\n",
    "\n",
    "        row_counter += 1\n",
    "\n",
    "        \n",
    "print(report) \n",
    "print()\n",
    "print(f\"row_counter is {row_counter}\")\n",
    "print(sale_row_counter)\n",
    "print(menu_row_counter)\n",
    "print((sale_row_counter)*(len(menu)))\n",
    "print()\n",
    "print(len(no_match))"
   ]
  },
  {
   "cell_type": "code",
   "execution_count": 6,
   "metadata": {},
   "outputs": [
    {
     "data": {
      "text/html": [
       "<div>\n",
       "<style scoped>\n",
       "    .dataframe tbody tr th:only-of-type {\n",
       "        vertical-align: middle;\n",
       "    }\n",
       "\n",
       "    .dataframe tbody tr th {\n",
       "        vertical-align: top;\n",
       "    }\n",
       "\n",
       "    .dataframe thead th {\n",
       "        text-align: right;\n",
       "    }\n",
       "</style>\n",
       "<table border=\"1\" class=\"dataframe\">\n",
       "  <thead>\n",
       "    <tr style=\"text-align: right;\">\n",
       "      <th></th>\n",
       "      <th>no_match</th>\n",
       "    </tr>\n",
       "  </thead>\n",
       "  <tbody>\n",
       "    <tr>\n",
       "      <th>0</th>\n",
       "      <td>spicy miso ramen in sales dataset does NOT equ...</td>\n",
       "    </tr>\n",
       "    <tr>\n",
       "      <th>1</th>\n",
       "      <td>spicy miso ramen in sales dataset does NOT equ...</td>\n",
       "    </tr>\n",
       "    <tr>\n",
       "      <th>2</th>\n",
       "      <td>spicy miso ramen in sales dataset does NOT equ...</td>\n",
       "    </tr>\n",
       "    <tr>\n",
       "      <th>3</th>\n",
       "      <td>spicy miso ramen in sales dataset does NOT equ...</td>\n",
       "    </tr>\n",
       "    <tr>\n",
       "      <th>4</th>\n",
       "      <td>spicy miso ramen in sales dataset does NOT equ...</td>\n",
       "    </tr>\n",
       "    <tr>\n",
       "      <th>...</th>\n",
       "      <td>...</td>\n",
       "    </tr>\n",
       "    <tr>\n",
       "      <th>2297839</th>\n",
       "      <td>spicy miso ramen in sales dataset does NOT equ...</td>\n",
       "    </tr>\n",
       "    <tr>\n",
       "      <th>2297840</th>\n",
       "      <td>spicy miso ramen in sales dataset does NOT equ...</td>\n",
       "    </tr>\n",
       "    <tr>\n",
       "      <th>2297841</th>\n",
       "      <td>spicy miso ramen in sales dataset does NOT equ...</td>\n",
       "    </tr>\n",
       "    <tr>\n",
       "      <th>2297842</th>\n",
       "      <td>spicy miso ramen in sales dataset does NOT equ...</td>\n",
       "    </tr>\n",
       "    <tr>\n",
       "      <th>2297843</th>\n",
       "      <td>spicy miso ramen in sales dataset does NOT equ...</td>\n",
       "    </tr>\n",
       "  </tbody>\n",
       "</table>\n",
       "<p>2297844 rows × 1 columns</p>\n",
       "</div>"
      ],
      "text/plain": [
       "                                                  no_match\n",
       "0        spicy miso ramen in sales dataset does NOT equ...\n",
       "1        spicy miso ramen in sales dataset does NOT equ...\n",
       "2        spicy miso ramen in sales dataset does NOT equ...\n",
       "3        spicy miso ramen in sales dataset does NOT equ...\n",
       "4        spicy miso ramen in sales dataset does NOT equ...\n",
       "...                                                    ...\n",
       "2297839  spicy miso ramen in sales dataset does NOT equ...\n",
       "2297840  spicy miso ramen in sales dataset does NOT equ...\n",
       "2297841  spicy miso ramen in sales dataset does NOT equ...\n",
       "2297842  spicy miso ramen in sales dataset does NOT equ...\n",
       "2297843  spicy miso ramen in sales dataset does NOT equ...\n",
       "\n",
       "[2297844 rows x 1 columns]"
      ]
     },
     "execution_count": 6,
     "metadata": {},
     "output_type": "execute_result"
    }
   ],
   "source": [
    "from pandas import DataFrame\n",
    "\n",
    "df = DataFrame(no_match, columns=['no_match'])\n",
    "df"
   ]
  },
  {
   "cell_type": "code",
   "execution_count": 7,
   "metadata": {},
   "outputs": [],
   "source": [
    "#Write out the contents of the report dictionary to a text file. \n",
    "#The report should output each ramen type as the keys and 01-count, 02-revenue, 03-cogs, and 04-profit metrics \n",
    "#as the values for every ramen type as shown:\n",
    "\n",
    "# Set the header for sales_report.csv\n",
    "header = [\"Menu_name\", \"Count\", \"Revenue\", \"Cogs\", \"Profit\"]\n",
    "\n",
    "# Set the path for the sales_report.csv\n",
    "sales_report_path = Path(\"sales_report.csv\")\n",
    "\n",
    "# Open the output path as a file and pass into the 'csv.writer()' function\n",
    "# Set the delimiter/separater as a ','\n",
    "with open(sales_report_path, \"w\", newline='') as csvfile:\n",
    "    csvwriter = csv.writer(csvfile, delimiter=\",\")\n",
    "\n",
    "    # Write the header as the first row\n",
    "    csvwriter.writerow(header)\n",
    "\n",
    "    # Loop over every key in analysis and write the associated key (name) and\n",
    "    # nested key-value pairs (metrics)\n",
    "    for menu_name in report.keys():\n",
    "        csvwriter.writerow(\n",
    "            [  \n",
    "                menu_name, \n",
    "                report[menu_name][\"01-count\"], \n",
    "                round(report[menu_name][\"02-revenue\"], 2), \n",
    "                report[menu_name][\"03-cogs\"], \n",
    "                report[menu_name][\"04-profit\"]\n",
    "                            ]    ) "
   ]
  },
  {
   "cell_type": "code",
   "execution_count": null,
   "metadata": {},
   "outputs": [],
   "source": []
  },
  {
   "cell_type": "code",
   "execution_count": null,
   "metadata": {},
   "outputs": [],
   "source": []
  },
  {
   "cell_type": "code",
   "execution_count": null,
   "metadata": {},
   "outputs": [],
   "source": []
  }
 ],
 "metadata": {
  "kernelspec": {
   "display_name": "Python 3",
   "language": "python",
   "name": "python3"
  },
  "language_info": {
   "codemirror_mode": {
    "name": "ipython",
    "version": 3
   },
   "file_extension": ".py",
   "mimetype": "text/x-python",
   "name": "python",
   "nbconvert_exporter": "python",
   "pygments_lexer": "ipython3",
   "version": "3.8.3"
  }
 },
 "nbformat": 4,
 "nbformat_minor": 4
}
